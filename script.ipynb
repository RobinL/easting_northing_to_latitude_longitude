{
 "cells": [
  {
   "cell_type": "code",
   "execution_count": null,
   "metadata": {
    "collapsed": true
   },
   "outputs": [],
   "source": [
    "# Simple and inefficient script that uses postgist to convert British National Grid 27700 easting and northings into lat lng"
   ]
  },
  {
   "cell_type": "code",
   "execution_count": null,
   "metadata": {
    "collapsed": true
   },
   "outputs": [],
   "source": [
    "import pandas as pd "
   ]
  },
  {
   "cell_type": "code",
   "execution_count": null,
   "metadata": {
    "collapsed": false
   },
   "outputs": [],
   "source": [
    "df = pd.read_csv(\"/Users/robinlinacre/Downloads/Untitled spreadsheet - Sheet1.csv\")\n",
    "df.columns = [\"name\", \"postcode\", \"easting\", \"northing\"]\n",
    "df[]\n",
    "df.head()"
   ]
  },
  {
   "cell_type": "code",
   "execution_count": null,
   "metadata": {
    "collapsed": true
   },
   "outputs": [],
   "source": [
    "import logging\n",
    "import psycopg2\n",
    "\n",
    "conn_str = \"host='localhost' dbname='postgres' user='postgres' password=''\"\n",
    "conn = psycopg2.connect(conn_str)"
   ]
  },
  {
   "cell_type": "code",
   "execution_count": null,
   "metadata": {
    "collapsed": false
   },
   "outputs": [],
   "source": [
    "sql = \"\"\"\n",
    "    select\n",
    "           st_x(st_transform(st_GeomFromText('POINT('||{e}||' '||{n}||')',27700),4326)) as lng,\n",
    "           st_y(st_transform(st_GeomFromText('POINT('||{e}||' '||{n}||')',27700),4326)) as lat\n",
    "     \n",
    "    \"\"\"\n",
    "\n",
    "for r in df.iterrows():\n",
    "    try:\n",
    "        row = r[1]\n",
    "        index=r[0]\n",
    "        ll = pd.read_sql(sql.format(e=row[\"easting\"], n=row[\"northing\"]),conn)\n",
    "        df.loc[index,\"source_lat\"] = ll.loc[0,\"lat\"]\n",
    "        df.loc[index,\"source_lng\"] = ll.loc[0,\"lng\"]\n",
    "    except:\n",
    "        pass"
   ]
  },
  {
   "cell_type": "code",
   "execution_count": null,
   "metadata": {
    "collapsed": false
   },
   "outputs": [],
   "source": [
    "df.sort(\"easting\")"
   ]
  },
  {
   "cell_type": "code",
   "execution_count": null,
   "metadata": {
    "collapsed": true
   },
   "outputs": [],
   "source": []
  }
 ],
 "metadata": {
  "kernelspec": {
   "display_name": "Python 2",
   "language": "python",
   "name": "python2"
  },
  "language_info": {
   "codemirror_mode": {
    "name": "ipython",
    "version": 2
   },
   "file_extension": ".py",
   "mimetype": "text/x-python",
   "name": "python",
   "nbconvert_exporter": "python",
   "pygments_lexer": "ipython2",
   "version": "2.7.11"
  }
 },
 "nbformat": 4,
 "nbformat_minor": 0
}
